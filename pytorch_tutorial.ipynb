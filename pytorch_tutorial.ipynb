{
  "nbformat": 4,
  "nbformat_minor": 0,
  "metadata": {
    "colab": {
      "provenance": [],
      "gpuType": "T4"
    },
    "kernelspec": {
      "name": "python3",
      "display_name": "Python 3"
    },
    "language_info": {
      "name": "python"
    },
    "accelerator": "GPU"
  },
  "cells": [
    {
      "cell_type": "code",
      "execution_count": 2,
      "metadata": {
        "colab": {
          "base_uri": "https://localhost:8080/",
          "height": 36
        },
        "id": "8DYIpD8yUfqQ",
        "outputId": "1894d18f-f96c-473d-b584-f0b06150b2fe"
      },
      "outputs": [
        {
          "output_type": "execute_result",
          "data": {
            "text/plain": [
              "'2.1.0+cu121'"
            ],
            "application/vnd.google.colaboratory.intrinsic+json": {
              "type": "string"
            }
          },
          "metadata": {},
          "execution_count": 2
        }
      ],
      "source": [
        "import torch\n",
        "torch.__version__"
      ]
    },
    {
      "cell_type": "markdown",
      "source": [
        "# **텐서 초기화와 데이터 타입**"
      ],
      "metadata": {
        "id": "NbI4EKN1UvUA"
      }
    },
    {
      "cell_type": "markdown",
      "source": [
        "초기화 되지 않은 텐서"
      ],
      "metadata": {
        "id": "0RoTMN8BVY9F"
      }
    },
    {
      "cell_type": "code",
      "source": [
        "x = torch.empty(4,2)\n",
        "print(x)"
      ],
      "metadata": {
        "colab": {
          "base_uri": "https://localhost:8080/"
        },
        "id": "ijFdk6cCVcVn",
        "outputId": "17620071-deae-479f-b62a-86de40040d03"
      },
      "execution_count": 3,
      "outputs": [
        {
          "output_type": "stream",
          "name": "stdout",
          "text": [
            "tensor([[ 2.8026e-45,  0.0000e+00],\n",
            "        [ 2.8026e-45,  7.0065e-45],\n",
            "        [ 1.6381e-42,  4.3988e+21],\n",
            "        [-2.6726e-22,  3.1060e-41]])\n"
          ]
        }
      ]
    },
    {
      "cell_type": "markdown",
      "source": [
        "무작위로 초기화된 텐서"
      ],
      "metadata": {
        "id": "TXGPVjxRVn5h"
      }
    },
    {
      "cell_type": "code",
      "source": [
        "x = torch.rand(4,2)\n",
        "print(x)"
      ],
      "metadata": {
        "colab": {
          "base_uri": "https://localhost:8080/"
        },
        "id": "hwcID_hwVrZI",
        "outputId": "ac20a7d1-01d4-452e-c84b-2274a427704c"
      },
      "execution_count": 4,
      "outputs": [
        {
          "output_type": "stream",
          "name": "stdout",
          "text": [
            "tensor([[0.0953, 0.9777],\n",
            "        [0.7343, 0.8176],\n",
            "        [0.5714, 0.7933],\n",
            "        [0.0529, 0.8357]])\n"
          ]
        }
      ]
    },
    {
      "cell_type": "markdown",
      "source": [
        "데이터 타입(dtype)이 long이고, 0으로 채워진 텐서"
      ],
      "metadata": {
        "id": "2Csr9DJoV8Ee"
      }
    },
    {
      "cell_type": "code",
      "source": [
        "x = torch.zeros(4, 2, dtype = torch.long)\n",
        "print(x)"
      ],
      "metadata": {
        "colab": {
          "base_uri": "https://localhost:8080/"
        },
        "id": "gffpUs1mWAKR",
        "outputId": "78400366-fcc8-4a0b-e366-8a3a6240c663"
      },
      "execution_count": 6,
      "outputs": [
        {
          "output_type": "stream",
          "name": "stdout",
          "text": [
            "tensor([[0, 0],\n",
            "        [0, 0],\n",
            "        [0, 0],\n",
            "        [0, 0]])\n"
          ]
        }
      ]
    },
    {
      "cell_type": "markdown",
      "source": [
        "사용자가 입력한 값으로 텐서 초기화"
      ],
      "metadata": {
        "id": "7Y5hwgzAWRJ-"
      }
    },
    {
      "cell_type": "code",
      "source": [
        "x = torch.tensor([4, 2, 2.3, 9.1])\n",
        "x"
      ],
      "metadata": {
        "colab": {
          "base_uri": "https://localhost:8080/"
        },
        "id": "9VwnlBqAWSjZ",
        "outputId": "e15f393a-fa3d-42b9-ba8a-3905069b95c6"
      },
      "execution_count": 9,
      "outputs": [
        {
          "output_type": "execute_result",
          "data": {
            "text/plain": [
              "tensor([4.0000, 2.0000, 2.3000, 9.1000])"
            ]
          },
          "metadata": {},
          "execution_count": 9
        }
      ]
    },
    {
      "cell_type": "markdown",
      "source": [
        "2 x 4 크기, double 타입, 1로 채워진 텐서"
      ],
      "metadata": {
        "id": "4K-UNbxDWfRp"
      }
    },
    {
      "cell_type": "code",
      "source": [
        "x = x.new_ones(2, 4, dtype=torch.double)\n",
        "x"
      ],
      "metadata": {
        "colab": {
          "base_uri": "https://localhost:8080/"
        },
        "id": "MRJh_ZFOWgQ7",
        "outputId": "6c0a5f09-5b9d-4ee9-becd-2368174e6a15"
      },
      "execution_count": 11,
      "outputs": [
        {
          "output_type": "execute_result",
          "data": {
            "text/plain": [
              "tensor([[1., 1., 1., 1.],\n",
              "        [1., 1., 1., 1.]], dtype=torch.float64)"
            ]
          },
          "metadata": {},
          "execution_count": 11
        }
      ]
    },
    {
      "cell_type": "markdown",
      "source": [
        "x와 같은 크기, float 타입, 무작위로 채워진 텐서"
      ],
      "metadata": {
        "id": "tn6zJCaTW4Dy"
      }
    },
    {
      "cell_type": "code",
      "source": [
        "x = torch.rand_like(x, dtype = torch.float)\n",
        "x"
      ],
      "metadata": {
        "colab": {
          "base_uri": "https://localhost:8080/"
        },
        "id": "5KUqpyhbW5Kw",
        "outputId": "d75b44ac-6a1f-4b8f-ccc2-005b7259c597"
      },
      "execution_count": 12,
      "outputs": [
        {
          "output_type": "execute_result",
          "data": {
            "text/plain": [
              "tensor([[0.3576, 0.9195, 0.4382, 0.1444],\n",
              "        [0.3733, 0.8742, 0.2670, 0.7063]])"
            ]
          },
          "metadata": {},
          "execution_count": 12
        }
      ]
    },
    {
      "cell_type": "markdown",
      "source": [
        "텐서 크기 계산"
      ],
      "metadata": {
        "id": "FJIaUMoHW_6e"
      }
    },
    {
      "cell_type": "code",
      "source": [
        "print(x.size())"
      ],
      "metadata": {
        "colab": {
          "base_uri": "https://localhost:8080/"
        },
        "id": "-CTR6-8WXA1U",
        "outputId": "7ee93722-a895-4be8-f4be-daf439676003"
      },
      "execution_count": 14,
      "outputs": [
        {
          "output_type": "stream",
          "name": "stdout",
          "text": [
            "torch.Size([2, 4])\n"
          ]
        }
      ]
    },
    {
      "cell_type": "markdown",
      "source": [
        "# **데이터 타입 (Data Type)**"
      ],
      "metadata": {
        "id": "NRn4V3vOXHGU"
      }
    },
    {
      "cell_type": "code",
      "source": [
        "ft = torch.FloatTensor([1, 2, 3])\n",
        "print(ft)\n",
        "print(ft.dtype)"
      ],
      "metadata": {
        "colab": {
          "base_uri": "https://localhost:8080/"
        },
        "id": "vr0letlUXMvH",
        "outputId": "1cad2d57-68ee-4786-dbb8-8bd6167697e8"
      },
      "execution_count": 16,
      "outputs": [
        {
          "output_type": "stream",
          "name": "stdout",
          "text": [
            "tensor([1., 2., 3.])\n",
            "torch.float32\n"
          ]
        }
      ]
    },
    {
      "cell_type": "markdown",
      "source": [
        "데이터 변환 (typeCasting)"
      ],
      "metadata": {
        "id": "h_p0DKaRXWhA"
      }
    },
    {
      "cell_type": "code",
      "source": [
        "print(ft.short())\n",
        "print(ft.int())\n",
        "print(ft.long())"
      ],
      "metadata": {
        "colab": {
          "base_uri": "https://localhost:8080/"
        },
        "id": "MrpikxYsXSf-",
        "outputId": "becd483c-d6ba-41ab-fb0c-6f1b0c2b0d54"
      },
      "execution_count": 17,
      "outputs": [
        {
          "output_type": "stream",
          "name": "stdout",
          "text": [
            "tensor([1, 2, 3], dtype=torch.int16)\n",
            "tensor([1, 2, 3], dtype=torch.int32)\n",
            "tensor([1, 2, 3])\n"
          ]
        }
      ]
    },
    {
      "cell_type": "code",
      "source": [
        "it = torch.IntTensor([1, 2, 3])\n",
        "print(it)\n",
        "print(it.dtype)"
      ],
      "metadata": {
        "colab": {
          "base_uri": "https://localhost:8080/"
        },
        "id": "IgWlvUb4XZxm",
        "outputId": "0816c3d1-0463-4cf8-829b-b15aba303fcd"
      },
      "execution_count": 19,
      "outputs": [
        {
          "output_type": "stream",
          "name": "stdout",
          "text": [
            "tensor([1, 2, 3], dtype=torch.int32)\n",
            "torch.int32\n"
          ]
        }
      ]
    },
    {
      "cell_type": "code",
      "source": [
        "print(it.float())\n",
        "print(it.double())\n",
        "print(it.half())"
      ],
      "metadata": {
        "colab": {
          "base_uri": "https://localhost:8080/"
        },
        "id": "VBs2LhAOXcCr",
        "outputId": "2d6fd638-fa04-48ad-d9d4-bf587489e7e7"
      },
      "execution_count": 21,
      "outputs": [
        {
          "output_type": "stream",
          "name": "stdout",
          "text": [
            "tensor([1., 2., 3.])\n",
            "tensor([1., 2., 3.], dtype=torch.float64)\n",
            "tensor([1., 2., 3.], dtype=torch.float16)\n"
          ]
        }
      ]
    },
    {
      "cell_type": "markdown",
      "source": [
        "# CUDA **Tensors**"
      ],
      "metadata": {
        "id": "vNdw51G7XmFV"
      }
    },
    {
      "cell_type": "markdown",
      "source": [
        "- `.to` 메소드를 사용하여 텐서를 어떠한 장치(cpu,gpu)로 옮길 수 있음"
      ],
      "metadata": {
        "id": "CtaSsg9mXrZK"
      }
    },
    {
      "cell_type": "code",
      "source": [
        "x = torch.randn(1)\n",
        "print(x)\n",
        "print(x.item())\n",
        "print(x.dtype)"
      ],
      "metadata": {
        "colab": {
          "base_uri": "https://localhost:8080/"
        },
        "id": "ITCDSZd2XuIz",
        "outputId": "eedc86a8-aff2-4efc-a0ee-de0230b2f643"
      },
      "execution_count": 23,
      "outputs": [
        {
          "output_type": "stream",
          "name": "stdout",
          "text": [
            "tensor([0.1021])\n",
            "0.10211031138896942\n",
            "torch.float32\n"
          ]
        }
      ]
    },
    {
      "cell_type": "code",
      "source": [
        "device = torch.device('cuda' if torch.cuda.is_available() else 'cpu')\n",
        "print(device)\n",
        "y = torch.ones_like(x, device = device)\n",
        "print(y)\n",
        "x = x.to(device)\n",
        "print(x)\n",
        "z = x + y\n",
        "print(z)\n",
        "print(z.to('cpu', torch.double))"
      ],
      "metadata": {
        "colab": {
          "base_uri": "https://localhost:8080/"
        },
        "id": "dJ-c7oLJXwIx",
        "outputId": "3f6aee2e-875a-451e-e6ff-09e40a22f2e6"
      },
      "execution_count": 28,
      "outputs": [
        {
          "output_type": "stream",
          "name": "stdout",
          "text": [
            "cuda\n",
            "tensor([1.], device='cuda:0')\n",
            "tensor([0.1021], device='cuda:0')\n",
            "tensor([1.1021], device='cuda:0')\n",
            "tensor([1.1021], dtype=torch.float64)\n"
          ]
        }
      ]
    },
    {
      "cell_type": "markdown",
      "source": [
        "# **다차원 텐서 표현**"
      ],
      "metadata": {
        "id": "STqXWyzbZQwa"
      }
    },
    {
      "cell_type": "markdown",
      "source": [
        "0D Tensor(Scalar)"
      ],
      "metadata": {
        "id": "OewAcDSjZTWL"
      }
    },
    {
      "cell_type": "markdown",
      "source": [
        "- 하나의 숫자를 담고있는 텐서(tensor)\n",
        "- 축과 형상이 없음"
      ],
      "metadata": {
        "id": "jQpEAYadZYaH"
      }
    },
    {
      "cell_type": "code",
      "source": [
        "t0 = torch.tensor(0)\n",
        "print(t0.ndim)\n",
        "print(t0.shape)\n",
        "print(t0)"
      ],
      "metadata": {
        "colab": {
          "base_uri": "https://localhost:8080/"
        },
        "id": "H2tu0Hq1ZeS_",
        "outputId": "dbe82271-a93f-4b3e-cda9-6c979e25a229"
      },
      "execution_count": 31,
      "outputs": [
        {
          "output_type": "stream",
          "name": "stdout",
          "text": [
            "0\n",
            "torch.Size([])\n",
            "tensor(0)\n"
          ]
        }
      ]
    },
    {
      "cell_type": "markdown",
      "source": [
        "1D Tensor(Vector)"
      ],
      "metadata": {
        "id": "VZyZlpB6ZyGW"
      }
    },
    {
      "cell_type": "markdown",
      "source": [
        "- 값들을 저장한 리스트와 유사한 텐서\n",
        "- 하나의 축이 존재"
      ],
      "metadata": {
        "id": "Z-dOOgk_Z4Er"
      }
    },
    {
      "cell_type": "code",
      "source": [
        "t1 = torch.tensor([1, 2, 3])\n",
        "print(t1.ndim)\n",
        "print(t1.shape)\n",
        "print(t1)"
      ],
      "metadata": {
        "colab": {
          "base_uri": "https://localhost:8080/"
        },
        "id": "1l6fTUuAZ_QH",
        "outputId": "8e02c54c-db15-4562-fbc0-911de34d3139"
      },
      "execution_count": 32,
      "outputs": [
        {
          "output_type": "stream",
          "name": "stdout",
          "text": [
            "1\n",
            "torch.Size([3])\n",
            "tensor([1, 2, 3])\n"
          ]
        }
      ]
    },
    {
      "cell_type": "markdown",
      "source": [
        "2D Tensor(Matrix)\n",
        "- 행렬과 같은 모양으로 두 개의 축이 존재\n",
        "- 일반적인 수치, 통계 데이터셋에 해당\n",
        "- 주로 샘플(samples)과 특성(features)을 가진 구조로 사용"
      ],
      "metadata": {
        "id": "knTa6ncHaKMe"
      }
    },
    {
      "cell_type": "code",
      "source": [
        "t2 = torch.tensor([[1, 2, 3],\n",
        "                   [4, 5, 6],\n",
        "                   [7, 8, 9]])\n",
        "print(t2.ndim)\n",
        "print(t2.shape)\n",
        "print(t2)"
      ],
      "metadata": {
        "colab": {
          "base_uri": "https://localhost:8080/"
        },
        "id": "c1OetNiMaYpN",
        "outputId": "c682245a-96fd-45a5-fbde-c4056199eda9"
      },
      "execution_count": 35,
      "outputs": [
        {
          "output_type": "stream",
          "name": "stdout",
          "text": [
            "2\n",
            "torch.Size([3, 3])\n",
            "tensor([[1, 2, 3],\n",
            "        [4, 5, 6],\n",
            "        [7, 8, 9]])\n"
          ]
        }
      ]
    },
    {
      "cell_type": "markdown",
      "source": [
        "3D Tensor\n",
        "- 큐브(cube)와 같은 모양으로 3개의 축이 존재\n",
        "- 데이터가 연속된 시퀀스 데이터나 시간 축이 포함된 시계열 데이터에 해당\n",
        "- 주식 가격 데이터셋, 시간에 따른 질병 발병 데이터 등이 존재\n",
        "- 주로 샘플(samples), 타임스텝(timesteps), 특성(features)을 가진 구조로 사용"
      ],
      "metadata": {
        "id": "94QgDvA9athk"
      }
    },
    {
      "cell_type": "code",
      "source": [
        "t3 = torch.tensor([[[1, 2, 3],\n",
        "                   [4, 5, 6],\n",
        "                    [7, 8, 9]],\n",
        "                   [[1, 2, 3],\n",
        "                   [4, 5, 6],\n",
        "                    [7, 8, 9]],\n",
        "                   [[1, 2, 3],\n",
        "                   [4, 5, 6],\n",
        "                    [7, 8, 9]]])\n",
        "print(t3.ndim)\n",
        "print(t3.shape)\n",
        "print(t3)"
      ],
      "metadata": {
        "colab": {
          "base_uri": "https://localhost:8080/"
        },
        "id": "0sxCJCIKa-vb",
        "outputId": "816a4ab9-391f-4055-f866-db544d489bb4"
      },
      "execution_count": 36,
      "outputs": [
        {
          "output_type": "stream",
          "name": "stdout",
          "text": [
            "3\n",
            "torch.Size([3, 3, 3])\n",
            "tensor([[[1, 2, 3],\n",
            "         [4, 5, 6],\n",
            "         [7, 8, 9]],\n",
            "\n",
            "        [[1, 2, 3],\n",
            "         [4, 5, 6],\n",
            "         [7, 8, 9]],\n",
            "\n",
            "        [[1, 2, 3],\n",
            "         [4, 5, 6],\n",
            "         [7, 8, 9]]])\n"
          ]
        }
      ]
    },
    {
      "cell_type": "markdown",
      "source": [
        "4D Tensor\n",
        "- 4개의 축\n",
        "- 컬러 이미지 데이터가 대표적인 사례(흑백 이미지 데이터는 3D Tensor로 가능)\n",
        "- 주로 샘플(samples), 높이(height), 너비(width), 컬러 채널(channel)을 가진 구조로 사용"
      ],
      "metadata": {
        "id": "V_hWC5-Kb-zj"
      }
    },
    {
      "cell_type": "markdown",
      "source": [
        "# **텐서의 연산(operations)**\n",
        "- 텐서에 대한 수학 연산, 삼각 함수, 비트 연산, 비교 연산, 집계 등 제공"
      ],
      "metadata": {
        "id": "18hBIx2PcZLj"
      }
    },
    {
      "cell_type": "code",
      "source": [
        "import math\n",
        "a = torch.rand(1, 2) * 2 - 1\n",
        "print(a)\n",
        "print(torch.abs(a))\n",
        "print(torch.ceil(a))\n",
        "print(torch.floor(a))\n",
        "print(torch.clamp(a, -0.5, 0.5)) #해당 범위로 찍어내린다."
      ],
      "metadata": {
        "colab": {
          "base_uri": "https://localhost:8080/"
        },
        "id": "o3fNtxF6ccTK",
        "outputId": "15785074-e352-44a3-d6ac-d1cc85316039"
      },
      "execution_count": 43,
      "outputs": [
        {
          "output_type": "stream",
          "name": "stdout",
          "text": [
            "tensor([[-0.6045,  0.7951]])\n",
            "tensor([[0.6045, 0.7951]])\n",
            "tensor([[-0., 1.]])\n",
            "tensor([[-1.,  0.]])\n",
            "tensor([[-0.5000,  0.5000]])\n"
          ]
        }
      ]
    },
    {
      "cell_type": "code",
      "source": [
        "print(a)\n",
        "print(torch.min(a))\n",
        "print(torch.max(a))\n",
        "print(torch.mean(a))\n",
        "print(torch.std(a))\n",
        "print(torch.prod(a))\n",
        "print(torch.unique(torch.tensor([1, 2, 3, 1, 2, 2])))"
      ],
      "metadata": {
        "colab": {
          "base_uri": "https://localhost:8080/"
        },
        "id": "gJ3k2Yc3dSTf",
        "outputId": "034d433f-02bb-4319-f310-c55ef0322953"
      },
      "execution_count": 45,
      "outputs": [
        {
          "output_type": "stream",
          "name": "stdout",
          "text": [
            "tensor([[-0.6045,  0.7951]])\n",
            "tensor(-0.6045)\n",
            "tensor(0.7951)\n",
            "tensor(0.0953)\n",
            "tensor(0.9897)\n",
            "tensor(-0.4807)\n",
            "tensor([1, 2, 3])\n"
          ]
        }
      ]
    },
    {
      "cell_type": "markdown",
      "source": [
        "`max`와 `min`은 `dim` 인자를 줄 경우 argmax와 argmin도 함께 리턴"
      ],
      "metadata": {
        "id": "MS6t0mSddzol"
      }
    },
    {
      "cell_type": "markdown",
      "source": [
        "- argmax: 최대값을 가진 인덱스\n",
        "- argmin: 최소값을 가진 인덱스"
      ],
      "metadata": {
        "id": "99ewiItAd7a3"
      }
    },
    {
      "cell_type": "code",
      "source": [
        "x = torch.rand(2,2)\n",
        "print(x)\n",
        "print(x.max(dim=0))\n",
        "print(x.max(dim=1))"
      ],
      "metadata": {
        "colab": {
          "base_uri": "https://localhost:8080/"
        },
        "id": "dMmcIO4AeM6Z",
        "outputId": "42ed4c65-a508-4eb0-91ab-e5b26f818bf4"
      },
      "execution_count": 47,
      "outputs": [
        {
          "output_type": "stream",
          "name": "stdout",
          "text": [
            "tensor([[0.0381, 0.3693],\n",
            "        [0.9864, 0.2075]])\n",
            "torch.return_types.max(\n",
            "values=tensor([0.9864, 0.3693]),\n",
            "indices=tensor([1, 0]))\n",
            "torch.return_types.max(\n",
            "values=tensor([0.3693, 0.9864]),\n",
            "indices=tensor([1, 0]))\n"
          ]
        }
      ]
    },
    {
      "cell_type": "code",
      "source": [
        "print(x)\n",
        "print(x.min(dim=0))\n",
        "print(x.min(dim=1))"
      ],
      "metadata": {
        "colab": {
          "base_uri": "https://localhost:8080/"
        },
        "id": "LI6hTcAteP3E",
        "outputId": "95e4e40f-a030-461f-b2e7-4c43919dd23d"
      },
      "execution_count": 48,
      "outputs": [
        {
          "output_type": "stream",
          "name": "stdout",
          "text": [
            "tensor([[0.0381, 0.3693],\n",
            "        [0.9864, 0.2075]])\n",
            "torch.return_types.min(\n",
            "values=tensor([0.0381, 0.2075]),\n",
            "indices=tensor([0, 1]))\n",
            "torch.return_types.min(\n",
            "values=tensor([0.0381, 0.2075]),\n",
            "indices=tensor([0, 1]))\n"
          ]
        }
      ]
    },
    {
      "cell_type": "code",
      "source": [
        "x = torch.rand(2,2)\n",
        "print(x)\n",
        "y = torch.rand(2,2)\n",
        "print(y)"
      ],
      "metadata": {
        "colab": {
          "base_uri": "https://localhost:8080/"
        },
        "id": "mgKAnH0JfOVd",
        "outputId": "accd2cc0-82dc-4e96-be43-68a6de3c8680"
      },
      "execution_count": 49,
      "outputs": [
        {
          "output_type": "stream",
          "name": "stdout",
          "text": [
            "tensor([[0.0548, 0.5762],\n",
            "        [0.2393, 0.0856]])\n",
            "tensor([[0.9149, 0.9060],\n",
            "        [0.5372, 0.4028]])\n"
          ]
        }
      ]
    },
    {
      "cell_type": "markdown",
      "source": [
        "`torch.add` : 덧셈"
      ],
      "metadata": {
        "id": "wXSfUzKPf5Gr"
      }
    },
    {
      "cell_type": "code",
      "source": [
        "print(x+y)\n",
        "print(torch.add(x,y))"
      ],
      "metadata": {
        "colab": {
          "base_uri": "https://localhost:8080/"
        },
        "id": "BSqfU3scfaKO",
        "outputId": "d8250a52-9233-4b60-b873-dafe49032f63"
      },
      "execution_count": 50,
      "outputs": [
        {
          "output_type": "stream",
          "name": "stdout",
          "text": [
            "tensor([[0.9696, 1.4823],\n",
            "        [0.7765, 0.4884]])\n",
            "tensor([[0.9696, 1.4823],\n",
            "        [0.7765, 0.4884]])\n"
          ]
        }
      ]
    },
    {
      "cell_type": "markdown",
      "source": [
        "결과 텐서를 인자로 제공"
      ],
      "metadata": {
        "id": "b1mSySnKf9bt"
      }
    },
    {
      "cell_type": "code",
      "source": [
        "result = torch.empty(2,4)\n",
        "torch.add(x,y, out=result)\n",
        "print(result)"
      ],
      "metadata": {
        "colab": {
          "base_uri": "https://localhost:8080/"
        },
        "id": "YrvQXNlYffYt",
        "outputId": "6ad4b0d0-7be4-4ac6-9555-c938e528f793"
      },
      "execution_count": 52,
      "outputs": [
        {
          "output_type": "stream",
          "name": "stdout",
          "text": [
            "tensor([[0.9696, 1.4823],\n",
            "        [0.7765, 0.4884]])\n"
          ]
        },
        {
          "output_type": "stream",
          "name": "stderr",
          "text": [
            "<ipython-input-52-4be145b6d329>:2: UserWarning: An output with one or more elements was resized since it had shape [2, 4], which does not match the required output shape [2, 2]. This behavior is deprecated, and in a future PyTorch release outputs will not be resized unless they have zero elements. You can explicitly reuse an out tensor t by resizing it, inplace, to zero elements with t.resize_(0). (Triggered internally at ../aten/src/ATen/native/Resize.cpp:28.)\n",
            "  torch.add(x,y, out=result)\n"
          ]
        }
      ]
    },
    {
      "cell_type": "markdown",
      "source": [
        "`in-place` 방식"
      ],
      "metadata": {
        "id": "fN7um6ghgAv7"
      }
    },
    {
      "cell_type": "markdown",
      "source": [
        "- in-place 방식으로 텐서의 값을 변경하는 연산 뒤에는 _\"가 붙음\n",
        "- x.copy_(y), x.t_()"
      ],
      "metadata": {
        "id": "IwD9ABURgO21"
      }
    },
    {
      "cell_type": "code",
      "source": [
        "print(x)\n",
        "print(y)\n",
        "y.add_(x)\n",
        "print(y)"
      ],
      "metadata": {
        "colab": {
          "base_uri": "https://localhost:8080/"
        },
        "id": "kIZL_pOrgPS5",
        "outputId": "a1be3abd-63d0-42b4-808f-7f719544db03"
      },
      "execution_count": 54,
      "outputs": [
        {
          "output_type": "stream",
          "name": "stdout",
          "text": [
            "tensor([[0.0548, 0.5762],\n",
            "        [0.2393, 0.0856]])\n",
            "tensor([[0.9149, 0.9060],\n",
            "        [0.5372, 0.4028]])\n",
            "tensor([[0.9696, 1.4823],\n",
            "        [0.7765, 0.4884]])\n"
          ]
        }
      ]
    },
    {
      "cell_type": "markdown",
      "source": [
        "`torch.sub` : 뺄셈"
      ],
      "metadata": {
        "id": "aoyvt5wdgj22"
      }
    },
    {
      "cell_type": "code",
      "source": [
        "print(x)\n",
        "print(y)\n",
        "\n",
        "print(x-y)\n",
        "print(torch.sub(x,y))\n",
        "print(x.sub(y))"
      ],
      "metadata": {
        "colab": {
          "base_uri": "https://localhost:8080/"
        },
        "id": "aTxVCbSHglo7",
        "outputId": "8b0abc24-e7b6-4b80-a7e1-98ad9ff8c062"
      },
      "execution_count": 57,
      "outputs": [
        {
          "output_type": "stream",
          "name": "stdout",
          "text": [
            "tensor([[0.0548, 0.5762],\n",
            "        [0.2393, 0.0856]])\n",
            "tensor([[0.9696, 1.4823],\n",
            "        [0.7765, 0.4884]])\n",
            "tensor([[-0.9149, -0.9060],\n",
            "        [-0.5372, -0.4028]])\n",
            "tensor([[-0.9149, -0.9060],\n",
            "        [-0.5372, -0.4028]])\n",
            "tensor([[-0.9149, -0.9060],\n",
            "        [-0.5372, -0.4028]])\n"
          ]
        }
      ]
    },
    {
      "cell_type": "code",
      "source": [],
      "metadata": {
        "id": "hyKBnvKtgsCi"
      },
      "execution_count": null,
      "outputs": []
    }
  ]
}