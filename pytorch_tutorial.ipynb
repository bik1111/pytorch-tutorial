{
  "nbformat": 4,
  "nbformat_minor": 0,
  "metadata": {
    "colab": {
      "provenance": [],
      "gpuType": "T4",
      "authorship_tag": "ABX9TyPGskKmfVaM5KLK/WWMlYXh",
      "include_colab_link": true
    },
    "kernelspec": {
      "name": "python3",
      "display_name": "Python 3"
    },
    "language_info": {
      "name": "python"
    },
    "accelerator": "GPU"
  },
  "cells": [
    {
      "cell_type": "markdown",
      "metadata": {
        "id": "view-in-github",
        "colab_type": "text"
      },
      "source": [
        "<a href=\"https://colab.research.google.com/github/bik1111/pytorch-tutorial/blob/main/pytorch_tutorial.ipynb\" target=\"_parent\"><img src=\"https://colab.research.google.com/assets/colab-badge.svg\" alt=\"Open In Colab\"/></a>"
      ]
    },
    {
      "cell_type": "code",
      "execution_count": 3,
      "metadata": {
        "colab": {
          "base_uri": "https://localhost:8080/",
          "height": 36
        },
        "id": "8DYIpD8yUfqQ",
        "outputId": "bd347227-5927-4daa-b4eb-4bcb907e2548"
      },
      "outputs": [
        {
          "output_type": "execute_result",
          "data": {
            "text/plain": [
              "'2.1.0+cu121'"
            ],
            "application/vnd.google.colaboratory.intrinsic+json": {
              "type": "string"
            }
          },
          "metadata": {},
          "execution_count": 3
        }
      ],
      "source": [
        "import torch\n",
        "torch.__version__"
      ]
    },
    {
      "cell_type": "markdown",
      "source": [
        "# **텐서 초기화와 데이터 타입**"
      ],
      "metadata": {
        "id": "NbI4EKN1UvUA"
      }
    },
    {
      "cell_type": "markdown",
      "source": [
        "초기화 되지 않은 텐서"
      ],
      "metadata": {
        "id": "0RoTMN8BVY9F"
      }
    },
    {
      "cell_type": "code",
      "source": [
        "x = torch.empty(4,2)\n",
        "print(x)"
      ],
      "metadata": {
        "colab": {
          "base_uri": "https://localhost:8080/"
        },
        "id": "ijFdk6cCVcVn",
        "outputId": "6e1a454e-6274-4557-f6ef-4e55febd358e"
      },
      "execution_count": 4,
      "outputs": [
        {
          "output_type": "stream",
          "name": "stdout",
          "text": [
            "tensor([[6.3897e-18, 4.3530e-41],\n",
            "        [6.3897e-18, 4.3530e-41],\n",
            "        [0.0000e+00, 0.0000e+00],\n",
            "        [0.0000e+00, 0.0000e+00]])\n"
          ]
        }
      ]
    },
    {
      "cell_type": "markdown",
      "source": [
        "무작위로 초기화된 텐서"
      ],
      "metadata": {
        "id": "TXGPVjxRVn5h"
      }
    },
    {
      "cell_type": "code",
      "source": [
        "x = torch.rand(4,2)\n",
        "print(x)"
      ],
      "metadata": {
        "colab": {
          "base_uri": "https://localhost:8080/"
        },
        "id": "hwcID_hwVrZI",
        "outputId": "29ac99f0-bbfa-4fea-a7a0-36f3c72e19ea"
      },
      "execution_count": 5,
      "outputs": [
        {
          "output_type": "stream",
          "name": "stdout",
          "text": [
            "tensor([[0.7299, 0.3710],\n",
            "        [0.5477, 0.3884],\n",
            "        [0.8678, 0.9774],\n",
            "        [0.1143, 0.1456]])\n"
          ]
        }
      ]
    },
    {
      "cell_type": "markdown",
      "source": [
        "데이터 타입(dtype)이 long이고, 0으로 채워진 텐서"
      ],
      "metadata": {
        "id": "2Csr9DJoV8Ee"
      }
    },
    {
      "cell_type": "code",
      "source": [
        "x = torch.zeros(4, 2, dtype = torch.long)\n",
        "print(x)"
      ],
      "metadata": {
        "colab": {
          "base_uri": "https://localhost:8080/"
        },
        "id": "gffpUs1mWAKR",
        "outputId": "31a2e911-3a85-4235-ede2-872208657704"
      },
      "execution_count": 6,
      "outputs": [
        {
          "output_type": "stream",
          "name": "stdout",
          "text": [
            "tensor([[0, 0],\n",
            "        [0, 0],\n",
            "        [0, 0],\n",
            "        [0, 0]])\n"
          ]
        }
      ]
    },
    {
      "cell_type": "markdown",
      "source": [
        "사용자가 입력한 값으로 텐서 초기화"
      ],
      "metadata": {
        "id": "7Y5hwgzAWRJ-"
      }
    },
    {
      "cell_type": "code",
      "source": [
        "x = torch.tensor([4, 2, 2.3, 9.1])\n",
        "x"
      ],
      "metadata": {
        "colab": {
          "base_uri": "https://localhost:8080/"
        },
        "id": "9VwnlBqAWSjZ",
        "outputId": "66db2e2c-4982-49d0-8ce2-bd6ac1dc893e"
      },
      "execution_count": 7,
      "outputs": [
        {
          "output_type": "execute_result",
          "data": {
            "text/plain": [
              "tensor([4.0000, 2.0000, 2.3000, 9.1000])"
            ]
          },
          "metadata": {},
          "execution_count": 7
        }
      ]
    },
    {
      "cell_type": "markdown",
      "source": [
        "2 x 4 크기, double 타입, 1로 채워진 텐서"
      ],
      "metadata": {
        "id": "4K-UNbxDWfRp"
      }
    },
    {
      "cell_type": "code",
      "source": [
        "x = x.new_ones(2, 4, dtype=torch.double)\n",
        "x"
      ],
      "metadata": {
        "colab": {
          "base_uri": "https://localhost:8080/"
        },
        "id": "MRJh_ZFOWgQ7",
        "outputId": "f2211653-0f9b-4611-abe8-6945315da3fc"
      },
      "execution_count": 8,
      "outputs": [
        {
          "output_type": "execute_result",
          "data": {
            "text/plain": [
              "tensor([[1., 1., 1., 1.],\n",
              "        [1., 1., 1., 1.]], dtype=torch.float64)"
            ]
          },
          "metadata": {},
          "execution_count": 8
        }
      ]
    },
    {
      "cell_type": "markdown",
      "source": [
        "x와 같은 크기, float 타입, 무작위로 채워진 텐서"
      ],
      "metadata": {
        "id": "tn6zJCaTW4Dy"
      }
    },
    {
      "cell_type": "code",
      "source": [
        "x = torch.rand_like(x, dtype = torch.float)\n",
        "x"
      ],
      "metadata": {
        "colab": {
          "base_uri": "https://localhost:8080/"
        },
        "id": "5KUqpyhbW5Kw",
        "outputId": "83777448-bfcd-411b-cb13-646c43f312ef"
      },
      "execution_count": 9,
      "outputs": [
        {
          "output_type": "execute_result",
          "data": {
            "text/plain": [
              "tensor([[0.0577, 0.0594, 0.5870, 0.1135],\n",
              "        [0.9289, 0.0911, 0.4112, 0.6343]])"
            ]
          },
          "metadata": {},
          "execution_count": 9
        }
      ]
    },
    {
      "cell_type": "markdown",
      "source": [
        "텐서 크기 계산"
      ],
      "metadata": {
        "id": "FJIaUMoHW_6e"
      }
    },
    {
      "cell_type": "code",
      "source": [
        "print(x.size())"
      ],
      "metadata": {
        "colab": {
          "base_uri": "https://localhost:8080/"
        },
        "id": "-CTR6-8WXA1U",
        "outputId": "6c451102-f3e9-419a-831c-b3617f85600d"
      },
      "execution_count": 10,
      "outputs": [
        {
          "output_type": "stream",
          "name": "stdout",
          "text": [
            "torch.Size([2, 4])\n"
          ]
        }
      ]
    },
    {
      "cell_type": "markdown",
      "source": [
        "# **데이터 타입 (Data Type)**"
      ],
      "metadata": {
        "id": "NRn4V3vOXHGU"
      }
    },
    {
      "cell_type": "code",
      "source": [
        "ft = torch.FloatTensor([1, 2, 3])\n",
        "print(ft)\n",
        "print(ft.dtype)"
      ],
      "metadata": {
        "colab": {
          "base_uri": "https://localhost:8080/"
        },
        "id": "vr0letlUXMvH",
        "outputId": "018704c3-07d4-4dbd-d15d-d6fe9dc7ff18"
      },
      "execution_count": 11,
      "outputs": [
        {
          "output_type": "stream",
          "name": "stdout",
          "text": [
            "tensor([1., 2., 3.])\n",
            "torch.float32\n"
          ]
        }
      ]
    },
    {
      "cell_type": "markdown",
      "source": [
        "데이터 변환 (typeCasting)"
      ],
      "metadata": {
        "id": "h_p0DKaRXWhA"
      }
    },
    {
      "cell_type": "code",
      "source": [
        "print(ft.short())\n",
        "print(ft.int())\n",
        "print(ft.long())"
      ],
      "metadata": {
        "colab": {
          "base_uri": "https://localhost:8080/"
        },
        "id": "MrpikxYsXSf-",
        "outputId": "f162cad7-99aa-4e52-a0a3-a47f2dba9632"
      },
      "execution_count": 12,
      "outputs": [
        {
          "output_type": "stream",
          "name": "stdout",
          "text": [
            "tensor([1, 2, 3], dtype=torch.int16)\n",
            "tensor([1, 2, 3], dtype=torch.int32)\n",
            "tensor([1, 2, 3])\n"
          ]
        }
      ]
    },
    {
      "cell_type": "code",
      "source": [
        "it = torch.IntTensor([1, 2, 3])\n",
        "print(it)\n",
        "print(it.dtype)"
      ],
      "metadata": {
        "colab": {
          "base_uri": "https://localhost:8080/"
        },
        "id": "IgWlvUb4XZxm",
        "outputId": "a53733fb-269d-40db-a9b8-8186e172d9c7"
      },
      "execution_count": 13,
      "outputs": [
        {
          "output_type": "stream",
          "name": "stdout",
          "text": [
            "tensor([1, 2, 3], dtype=torch.int32)\n",
            "torch.int32\n"
          ]
        }
      ]
    },
    {
      "cell_type": "code",
      "source": [
        "print(it.float())\n",
        "print(it.double())\n",
        "print(it.half())"
      ],
      "metadata": {
        "colab": {
          "base_uri": "https://localhost:8080/"
        },
        "id": "VBs2LhAOXcCr",
        "outputId": "6a37526e-539c-40c4-8124-dec0e109b997"
      },
      "execution_count": 14,
      "outputs": [
        {
          "output_type": "stream",
          "name": "stdout",
          "text": [
            "tensor([1., 2., 3.])\n",
            "tensor([1., 2., 3.], dtype=torch.float64)\n",
            "tensor([1., 2., 3.], dtype=torch.float16)\n"
          ]
        }
      ]
    },
    {
      "cell_type": "markdown",
      "source": [
        "# CUDA **Tensors**"
      ],
      "metadata": {
        "id": "vNdw51G7XmFV"
      }
    },
    {
      "cell_type": "markdown",
      "source": [
        "- `.to` 메소드를 사용하여 텐서를 어떠한 장치(cpu,gpu)로 옮길 수 있음"
      ],
      "metadata": {
        "id": "CtaSsg9mXrZK"
      }
    },
    {
      "cell_type": "code",
      "source": [
        "x = torch.randn(1)\n",
        "print(x)\n",
        "print(x.item())\n",
        "print(x.dtype)"
      ],
      "metadata": {
        "colab": {
          "base_uri": "https://localhost:8080/"
        },
        "id": "ITCDSZd2XuIz",
        "outputId": "478f69c3-3bf9-49d9-ea36-c7521b10eb92"
      },
      "execution_count": 15,
      "outputs": [
        {
          "output_type": "stream",
          "name": "stdout",
          "text": [
            "tensor([-0.0530])\n",
            "-0.052998967468738556\n",
            "torch.float32\n"
          ]
        }
      ]
    },
    {
      "cell_type": "code",
      "source": [
        "device = torch.device('cuda' if torch.cuda.is_available() else 'cpu')\n",
        "print(device)\n",
        "y = torch.ones_like(x, device = device)\n",
        "print(y)\n",
        "x = x.to(device)\n",
        "print(x)\n",
        "z = x + y\n",
        "print(z)\n",
        "print(z.to('cpu', torch.double))"
      ],
      "metadata": {
        "colab": {
          "base_uri": "https://localhost:8080/"
        },
        "id": "dJ-c7oLJXwIx",
        "outputId": "5f806d5b-e0d4-4dc6-f10d-b6f03ddd5267"
      },
      "execution_count": 16,
      "outputs": [
        {
          "output_type": "stream",
          "name": "stdout",
          "text": [
            "cuda\n",
            "tensor([1.], device='cuda:0')\n",
            "tensor([-0.0530], device='cuda:0')\n",
            "tensor([0.9470], device='cuda:0')\n",
            "tensor([0.9470], dtype=torch.float64)\n"
          ]
        }
      ]
    },
    {
      "cell_type": "markdown",
      "source": [
        "# **다차원 텐서 표현**"
      ],
      "metadata": {
        "id": "STqXWyzbZQwa"
      }
    },
    {
      "cell_type": "markdown",
      "source": [
        "0D Tensor(Scalar)"
      ],
      "metadata": {
        "id": "OewAcDSjZTWL"
      }
    },
    {
      "cell_type": "markdown",
      "source": [
        "- 하나의 숫자를 담고있는 텐서(tensor)\n",
        "- 축과 형상이 없음"
      ],
      "metadata": {
        "id": "jQpEAYadZYaH"
      }
    },
    {
      "cell_type": "code",
      "source": [
        "t0 = torch.tensor(0)\n",
        "print(t0.ndim)\n",
        "print(t0.shape)\n",
        "print(t0)"
      ],
      "metadata": {
        "colab": {
          "base_uri": "https://localhost:8080/"
        },
        "id": "H2tu0Hq1ZeS_",
        "outputId": "de65fad3-28b1-408b-9775-c238ef248e7a"
      },
      "execution_count": 17,
      "outputs": [
        {
          "output_type": "stream",
          "name": "stdout",
          "text": [
            "0\n",
            "torch.Size([])\n",
            "tensor(0)\n"
          ]
        }
      ]
    },
    {
      "cell_type": "markdown",
      "source": [
        "1D Tensor(Vector)"
      ],
      "metadata": {
        "id": "VZyZlpB6ZyGW"
      }
    },
    {
      "cell_type": "markdown",
      "source": [
        "- 값들을 저장한 리스트와 유사한 텐서\n",
        "- 하나의 축이 존재"
      ],
      "metadata": {
        "id": "Z-dOOgk_Z4Er"
      }
    },
    {
      "cell_type": "code",
      "source": [
        "t1 = torch.tensor([1, 2, 3])\n",
        "print(t1.ndim)\n",
        "print(t1.shape)\n",
        "print(t1)"
      ],
      "metadata": {
        "colab": {
          "base_uri": "https://localhost:8080/"
        },
        "id": "1l6fTUuAZ_QH",
        "outputId": "b553992e-83cd-4b66-f384-fa013ec24e1a"
      },
      "execution_count": 18,
      "outputs": [
        {
          "output_type": "stream",
          "name": "stdout",
          "text": [
            "1\n",
            "torch.Size([3])\n",
            "tensor([1, 2, 3])\n"
          ]
        }
      ]
    },
    {
      "cell_type": "markdown",
      "source": [
        "2D Tensor(Matrix)\n",
        "- 행렬과 같은 모양으로 두 개의 축이 존재\n",
        "- 일반적인 수치, 통계 데이터셋에 해당\n",
        "- 주로 샘플(samples)과 특성(features)을 가진 구조로 사용"
      ],
      "metadata": {
        "id": "knTa6ncHaKMe"
      }
    },
    {
      "cell_type": "code",
      "source": [
        "t2 = torch.tensor([[1, 2, 3],\n",
        "                   [4, 5, 6],\n",
        "                   [7, 8, 9]])\n",
        "print(t2.ndim)\n",
        "print(t2.shape)\n",
        "print(t2)"
      ],
      "metadata": {
        "colab": {
          "base_uri": "https://localhost:8080/"
        },
        "id": "c1OetNiMaYpN",
        "outputId": "c5f1d042-dadb-4494-d881-332f0410aac9"
      },
      "execution_count": 19,
      "outputs": [
        {
          "output_type": "stream",
          "name": "stdout",
          "text": [
            "2\n",
            "torch.Size([3, 3])\n",
            "tensor([[1, 2, 3],\n",
            "        [4, 5, 6],\n",
            "        [7, 8, 9]])\n"
          ]
        }
      ]
    },
    {
      "cell_type": "markdown",
      "source": [
        "3D Tensor\n",
        "- 큐브(cube)와 같은 모양으로 3개의 축이 존재\n",
        "- 데이터가 연속된 시퀀스 데이터나 시간 축이 포함된 시계열 데이터에 해당\n",
        "- 주식 가격 데이터셋, 시간에 따른 질병 발병 데이터 등이 존재\n",
        "- 주로 샘플(samples), 타임스텝(timesteps), 특성(features)을 가진 구조로 사용"
      ],
      "metadata": {
        "id": "94QgDvA9athk"
      }
    },
    {
      "cell_type": "code",
      "source": [
        "t3 = torch.tensor([[[1, 2, 3],\n",
        "                   [4, 5, 6],\n",
        "                    [7, 8, 9]],\n",
        "                   [[1, 2, 3],\n",
        "                   [4, 5, 6],\n",
        "                    [7, 8, 9]],\n",
        "                   [[1, 2, 3],\n",
        "                   [4, 5, 6],\n",
        "                    [7, 8, 9]]])\n",
        "print(t3.ndim)\n",
        "print(t3.shape)\n",
        "print(t3)"
      ],
      "metadata": {
        "colab": {
          "base_uri": "https://localhost:8080/"
        },
        "id": "0sxCJCIKa-vb",
        "outputId": "589ebe4d-0260-466f-a41e-59cf9d96caf5"
      },
      "execution_count": 20,
      "outputs": [
        {
          "output_type": "stream",
          "name": "stdout",
          "text": [
            "3\n",
            "torch.Size([3, 3, 3])\n",
            "tensor([[[1, 2, 3],\n",
            "         [4, 5, 6],\n",
            "         [7, 8, 9]],\n",
            "\n",
            "        [[1, 2, 3],\n",
            "         [4, 5, 6],\n",
            "         [7, 8, 9]],\n",
            "\n",
            "        [[1, 2, 3],\n",
            "         [4, 5, 6],\n",
            "         [7, 8, 9]]])\n"
          ]
        }
      ]
    },
    {
      "cell_type": "markdown",
      "source": [
        "4D Tensor\n",
        "- 4개의 축\n",
        "- 컬러 이미지 데이터가 대표적인 사례(흑백 이미지 데이터는 3D Tensor로 가능)\n",
        "- 주로 샘플(samples), 높이(height), 너비(width), 컬러 채널(channel)을 가진 구조로 사용"
      ],
      "metadata": {
        "id": "V_hWC5-Kb-zj"
      }
    },
    {
      "cell_type": "markdown",
      "source": [
        "# **텐서의 연산(operations)**\n",
        "- 텐서에 대한 수학 연산, 삼각 함수, 비트 연산, 비교 연산, 집계 등 제공"
      ],
      "metadata": {
        "id": "18hBIx2PcZLj"
      }
    },
    {
      "cell_type": "code",
      "source": [
        "import math\n",
        "a = torch.rand(1, 2) * 2 - 1\n",
        "print(a)\n",
        "print(torch.abs(a))\n",
        "print(torch.ceil(a))\n",
        "print(torch.floor(a))\n",
        "print(torch.clamp(a, -0.5, 0.5)) #해당 범위로 찍어내린다."
      ],
      "metadata": {
        "colab": {
          "base_uri": "https://localhost:8080/"
        },
        "id": "o3fNtxF6ccTK",
        "outputId": "eb09cd92-3b06-493c-97fa-5b97d27e83fa"
      },
      "execution_count": 21,
      "outputs": [
        {
          "output_type": "stream",
          "name": "stdout",
          "text": [
            "tensor([[ 0.7834, -0.0230]])\n",
            "tensor([[0.7834, 0.0230]])\n",
            "tensor([[1., -0.]])\n",
            "tensor([[ 0., -1.]])\n",
            "tensor([[ 0.5000, -0.0230]])\n"
          ]
        }
      ]
    },
    {
      "cell_type": "code",
      "source": [
        "print(a)\n",
        "print(torch.min(a))\n",
        "print(torch.max(a))\n",
        "print(torch.mean(a))\n",
        "print(torch.std(a))\n",
        "print(torch.prod(a))\n",
        "print(torch.unique(torch.tensor([1, 2, 3, 1, 2, 2])))"
      ],
      "metadata": {
        "colab": {
          "base_uri": "https://localhost:8080/"
        },
        "id": "gJ3k2Yc3dSTf",
        "outputId": "71477c8a-b605-4e24-91c1-b5254d9e5428"
      },
      "execution_count": 22,
      "outputs": [
        {
          "output_type": "stream",
          "name": "stdout",
          "text": [
            "tensor([[ 0.7834, -0.0230]])\n",
            "tensor(-0.0230)\n",
            "tensor(0.7834)\n",
            "tensor(0.3802)\n",
            "tensor(0.5702)\n",
            "tensor(-0.0180)\n",
            "tensor([1, 2, 3])\n"
          ]
        }
      ]
    },
    {
      "cell_type": "markdown",
      "source": [
        "`max`와 `min`은 `dim` 인자를 줄 경우 argmax와 argmin도 함께 리턴"
      ],
      "metadata": {
        "id": "MS6t0mSddzol"
      }
    },
    {
      "cell_type": "markdown",
      "source": [
        "- argmax: 최대값을 가진 인덱스\n",
        "- argmin: 최소값을 가진 인덱스"
      ],
      "metadata": {
        "id": "99ewiItAd7a3"
      }
    },
    {
      "cell_type": "code",
      "source": [
        "x = torch.rand(2,2)\n",
        "print(x)\n",
        "print(x.max(dim=0))\n",
        "print(x.max(dim=1))"
      ],
      "metadata": {
        "colab": {
          "base_uri": "https://localhost:8080/"
        },
        "id": "dMmcIO4AeM6Z",
        "outputId": "1f554a8c-03e2-4dcb-be38-2282b4457154"
      },
      "execution_count": 23,
      "outputs": [
        {
          "output_type": "stream",
          "name": "stdout",
          "text": [
            "tensor([[0.2129, 0.2391],\n",
            "        [0.8960, 0.6764]])\n",
            "torch.return_types.max(\n",
            "values=tensor([0.8960, 0.6764]),\n",
            "indices=tensor([1, 1]))\n",
            "torch.return_types.max(\n",
            "values=tensor([0.2391, 0.8960]),\n",
            "indices=tensor([1, 0]))\n"
          ]
        }
      ]
    },
    {
      "cell_type": "code",
      "source": [
        "print(x)\n",
        "print(x.min(dim=0))\n",
        "print(x.min(dim=1))"
      ],
      "metadata": {
        "colab": {
          "base_uri": "https://localhost:8080/"
        },
        "id": "LI6hTcAteP3E",
        "outputId": "d7f9d4d8-55f8-424c-cfea-ff47a0618bfc"
      },
      "execution_count": 24,
      "outputs": [
        {
          "output_type": "stream",
          "name": "stdout",
          "text": [
            "tensor([[0.2129, 0.2391],\n",
            "        [0.8960, 0.6764]])\n",
            "torch.return_types.min(\n",
            "values=tensor([0.2129, 0.2391]),\n",
            "indices=tensor([0, 0]))\n",
            "torch.return_types.min(\n",
            "values=tensor([0.2129, 0.6764]),\n",
            "indices=tensor([0, 1]))\n"
          ]
        }
      ]
    },
    {
      "cell_type": "code",
      "source": [
        "x = torch.rand(2,2)\n",
        "print(x)\n",
        "y = torch.rand(2,2)\n",
        "print(y)"
      ],
      "metadata": {
        "colab": {
          "base_uri": "https://localhost:8080/"
        },
        "id": "mgKAnH0JfOVd",
        "outputId": "7d0c0a3a-061d-4084-e402-6f751de2d573"
      },
      "execution_count": 25,
      "outputs": [
        {
          "output_type": "stream",
          "name": "stdout",
          "text": [
            "tensor([[0.2418, 0.2554],\n",
            "        [0.1496, 0.9801]])\n",
            "tensor([[0.3218, 0.2129],\n",
            "        [0.7426, 0.2558]])\n"
          ]
        }
      ]
    },
    {
      "cell_type": "markdown",
      "source": [
        "`torch.add` : 덧셈"
      ],
      "metadata": {
        "id": "wXSfUzKPf5Gr"
      }
    },
    {
      "cell_type": "code",
      "source": [
        "print(x+y)\n",
        "print(torch.add(x,y))"
      ],
      "metadata": {
        "colab": {
          "base_uri": "https://localhost:8080/"
        },
        "id": "BSqfU3scfaKO",
        "outputId": "9cc04545-2736-4f3d-cd1e-92f23ec88283"
      },
      "execution_count": 26,
      "outputs": [
        {
          "output_type": "stream",
          "name": "stdout",
          "text": [
            "tensor([[0.5637, 0.4683],\n",
            "        [0.8922, 1.2359]])\n",
            "tensor([[0.5637, 0.4683],\n",
            "        [0.8922, 1.2359]])\n"
          ]
        }
      ]
    },
    {
      "cell_type": "markdown",
      "source": [
        "결과 텐서를 인자로 제공"
      ],
      "metadata": {
        "id": "b1mSySnKf9bt"
      }
    },
    {
      "cell_type": "code",
      "source": [
        "result = torch.empty(2,4)\n",
        "torch.add(x,y, out=result)\n",
        "print(result)"
      ],
      "metadata": {
        "colab": {
          "base_uri": "https://localhost:8080/"
        },
        "id": "YrvQXNlYffYt",
        "outputId": "eaccecf3-c93d-426e-cc51-ad0b642d4c7c"
      },
      "execution_count": 27,
      "outputs": [
        {
          "output_type": "stream",
          "name": "stdout",
          "text": [
            "tensor([[0.5637, 0.4683],\n",
            "        [0.8922, 1.2359]])\n"
          ]
        },
        {
          "output_type": "stream",
          "name": "stderr",
          "text": [
            "<ipython-input-27-4be145b6d329>:2: UserWarning: An output with one or more elements was resized since it had shape [2, 4], which does not match the required output shape [2, 2]. This behavior is deprecated, and in a future PyTorch release outputs will not be resized unless they have zero elements. You can explicitly reuse an out tensor t by resizing it, inplace, to zero elements with t.resize_(0). (Triggered internally at ../aten/src/ATen/native/Resize.cpp:28.)\n",
            "  torch.add(x,y, out=result)\n"
          ]
        }
      ]
    },
    {
      "cell_type": "markdown",
      "source": [
        "`in-place` 방식"
      ],
      "metadata": {
        "id": "fN7um6ghgAv7"
      }
    },
    {
      "cell_type": "markdown",
      "source": [
        "- in-place 방식으로 텐서의 값을 변경하는 연산 뒤에는 _\"가 붙음\n",
        "- x.copy_(y), x.t_()"
      ],
      "metadata": {
        "id": "IwD9ABURgO21"
      }
    },
    {
      "cell_type": "code",
      "source": [
        "print(x)\n",
        "print(y)\n",
        "y.add_(x)\n",
        "print(y)"
      ],
      "metadata": {
        "colab": {
          "base_uri": "https://localhost:8080/"
        },
        "id": "kIZL_pOrgPS5",
        "outputId": "1bda4d71-5924-4ce9-cb47-ec5c7e535669"
      },
      "execution_count": 28,
      "outputs": [
        {
          "output_type": "stream",
          "name": "stdout",
          "text": [
            "tensor([[0.2418, 0.2554],\n",
            "        [0.1496, 0.9801]])\n",
            "tensor([[0.3218, 0.2129],\n",
            "        [0.7426, 0.2558]])\n",
            "tensor([[0.5637, 0.4683],\n",
            "        [0.8922, 1.2359]])\n"
          ]
        }
      ]
    },
    {
      "cell_type": "markdown",
      "source": [
        "`torch.sub` : 뺄셈"
      ],
      "metadata": {
        "id": "aoyvt5wdgj22"
      }
    },
    {
      "cell_type": "code",
      "source": [
        "print(x)\n",
        "print(y)\n",
        "\n",
        "print(x-y)\n",
        "print(torch.sub(x,y))\n",
        "print(x.sub(y))"
      ],
      "metadata": {
        "colab": {
          "base_uri": "https://localhost:8080/"
        },
        "id": "aTxVCbSHglo7",
        "outputId": "df14ca75-41c2-4be9-d057-3282c29d1c27"
      },
      "execution_count": 29,
      "outputs": [
        {
          "output_type": "stream",
          "name": "stdout",
          "text": [
            "tensor([[0.2418, 0.2554],\n",
            "        [0.1496, 0.9801]])\n",
            "tensor([[0.5637, 0.4683],\n",
            "        [0.8922, 1.2359]])\n",
            "tensor([[-0.3218, -0.2129],\n",
            "        [-0.7426, -0.2558]])\n",
            "tensor([[-0.3218, -0.2129],\n",
            "        [-0.7426, -0.2558]])\n",
            "tensor([[-0.3218, -0.2129],\n",
            "        [-0.7426, -0.2558]])\n"
          ]
        }
      ]
    },
    {
      "cell_type": "markdown",
      "source": [
        "`torch.mul` : 곱셈"
      ],
      "metadata": {
        "id": "939sHae4Mid4"
      }
    },
    {
      "cell_type": "code",
      "source": [
        "print(x)\n",
        "print(y)\n",
        "\n",
        "print(x*y)\n",
        "print(torch.mul(x,y))\n",
        "print(x.mul(y))"
      ],
      "metadata": {
        "colab": {
          "base_uri": "https://localhost:8080/"
        },
        "id": "XnbOiw9HMjde",
        "outputId": "a5fd4d84-558c-4034-bba5-e03d517b9545"
      },
      "execution_count": 30,
      "outputs": [
        {
          "output_type": "stream",
          "name": "stdout",
          "text": [
            "tensor([[0.2418, 0.2554],\n",
            "        [0.1496, 0.9801]])\n",
            "tensor([[0.5637, 0.4683],\n",
            "        [0.8922, 1.2359]])\n",
            "tensor([[0.1363, 0.1196],\n",
            "        [0.1335, 1.2113]])\n",
            "tensor([[0.1363, 0.1196],\n",
            "        [0.1335, 1.2113]])\n",
            "tensor([[0.1363, 0.1196],\n",
            "        [0.1335, 1.2113]])\n"
          ]
        }
      ]
    },
    {
      "cell_type": "markdown",
      "source": [],
      "metadata": {
        "id": "gMo1-zRvMlfK"
      }
    },
    {
      "cell_type": "markdown",
      "source": [
        "`torch.div`: 나눗셈"
      ],
      "metadata": {
        "id": "M7BhduSnMur7"
      }
    },
    {
      "cell_type": "code",
      "source": [
        "print(x)\n",
        "print(y)\n",
        "\n",
        "print(x/y)\n",
        "print(torch.div(x,y))\n",
        "print(x.div(y))"
      ],
      "metadata": {
        "colab": {
          "base_uri": "https://localhost:8080/"
        },
        "id": "QF5YtZygMmk-",
        "outputId": "6b30acf9-0c33-4553-fcf0-5434b3992895"
      },
      "execution_count": 32,
      "outputs": [
        {
          "output_type": "stream",
          "name": "stdout",
          "text": [
            "tensor([[0.2418, 0.2554],\n",
            "        [0.1496, 0.9801]])\n",
            "tensor([[0.5637, 0.4683],\n",
            "        [0.8922, 1.2359]])\n",
            "tensor([[0.4290, 0.5454],\n",
            "        [0.1677, 0.7930]])\n",
            "tensor([[0.4290, 0.5454],\n",
            "        [0.1677, 0.7930]])\n",
            "tensor([[0.4290, 0.5454],\n",
            "        [0.1677, 0.7930]])\n"
          ]
        }
      ]
    },
    {
      "cell_type": "markdown",
      "source": [
        "`torch.mm`: 내적(dot product)"
      ],
      "metadata": {
        "id": "6m_FFkZmMyIw"
      }
    },
    {
      "cell_type": "code",
      "source": [
        "print(x)\n",
        "print(y)\n",
        "\n",
        "print(torch.matmul(x,y))\n",
        "z = torch.mm(x,y)\n",
        "print(z)\n",
        "print(torch.svd(z))"
      ],
      "metadata": {
        "colab": {
          "base_uri": "https://localhost:8080/"
        },
        "id": "G__0X1fxMyan",
        "outputId": "c6d4afaa-f4d9-4d0c-f2cb-113e99b29187"
      },
      "execution_count": 33,
      "outputs": [
        {
          "output_type": "stream",
          "name": "stdout",
          "text": [
            "tensor([[0.2418, 0.2554],\n",
            "        [0.1496, 0.9801]])\n",
            "tensor([[0.5637, 0.4683],\n",
            "        [0.8922, 1.2359]])\n",
            "tensor([[0.3642, 0.4289],\n",
            "        [0.9588, 1.2813]])\n",
            "tensor([[0.3642, 0.4289],\n",
            "        [0.9588, 1.2813]])\n",
            "torch.return_types.svd(\n",
            "U=tensor([[-0.3313, -0.9435],\n",
            "        [-0.9435,  0.3313]]),\n",
            "S=tensor([1.6961, 0.0327]),\n",
            "V=tensor([[-0.6045, -0.7966],\n",
            "        [-0.7966,  0.6045]]))\n"
          ]
        }
      ]
    },
    {
      "cell_type": "markdown",
      "source": [
        "## 텐서의 조작(Manipulations)\n",
        "- 인덱싱(Indexing): Numpy처럼 인덱싱 형태로 사용가능"
      ],
      "metadata": {
        "id": "jNc3lSBwM05N"
      }
    },
    {
      "cell_type": "code",
      "source": [
        "x = torch.Tensor([[1, 2],\n",
        "                  [3, 4]])\n",
        "\n",
        "print(x)\n",
        "\n",
        "print(x[0,0])\n",
        "print(x[0,1])\n",
        "print(x[1,0])\n",
        "print(x[1,1])\n",
        "\n",
        "# 행은 다 선택하면서, 0번째 컬럼만 선택\n",
        "print(x[:, 0])\n",
        "print(x[:, 1])\n",
        "\n",
        "print(x[0, :])\n",
        "print(x[1, :])"
      ],
      "metadata": {
        "colab": {
          "base_uri": "https://localhost:8080/"
        },
        "id": "tDm3WDCzM2DC",
        "outputId": "95132c54-22bd-4a4a-e971-79cd31efcbf9"
      },
      "execution_count": 34,
      "outputs": [
        {
          "output_type": "stream",
          "name": "stdout",
          "text": [
            "tensor([[1., 2.],\n",
            "        [3., 4.]])\n",
            "tensor(1.)\n",
            "tensor(2.)\n",
            "tensor(3.)\n",
            "tensor(4.)\n",
            "tensor([1., 3.])\n",
            "tensor([2., 4.])\n",
            "tensor([1., 2.])\n",
            "tensor([3., 4.])\n"
          ]
        }
      ]
    },
    {
      "cell_type": "markdown",
      "source": [
        "`view`: 텐서의 크기(size)나 모양(shape)을 변경\n",
        "- 기본적으로 변경 전과 후에 텐서 안의 원소 갯수가 유지되어야 함\n",
        "- -1 로 설정되면 계산을 통해 해당 크기값 유추"
      ],
      "metadata": {
        "id": "l4jJUXtyM6yy"
      }
    },
    {
      "cell_type": "code",
      "source": [
        "x = torch.randn(4,5)\n",
        "print(x)\n",
        "\n",
        "# x를 Flat하게 핀 상태\n",
        "y = x.view(20)\n",
        "print(y)\n",
        "\n",
        "# 행은 5개 열은 알아서 조합(-1)\n",
        "z = x.view(5, -1)\n",
        "print(z)"
      ],
      "metadata": {
        "colab": {
          "base_uri": "https://localhost:8080/"
        },
        "id": "QqqNOnjJM75y",
        "outputId": "9cb99f02-b751-438a-81d0-07c168a2395e"
      },
      "execution_count": 35,
      "outputs": [
        {
          "output_type": "stream",
          "name": "stdout",
          "text": [
            "tensor([[ 0.7564, -0.1327, -0.5587, -1.5017, -0.0843],\n",
            "        [ 0.4174, -0.4371,  0.6720,  0.2246, -0.5086],\n",
            "        [-0.7173,  1.7495,  0.2437, -0.2908, -1.7092],\n",
            "        [-1.2189, -1.1885, -1.5630,  0.8562, -0.1116]])\n",
            "tensor([ 0.7564, -0.1327, -0.5587, -1.5017, -0.0843,  0.4174, -0.4371,  0.6720,\n",
            "         0.2246, -0.5086, -0.7173,  1.7495,  0.2437, -0.2908, -1.7092, -1.2189,\n",
            "        -1.1885, -1.5630,  0.8562, -0.1116])\n",
            "tensor([[ 0.7564, -0.1327, -0.5587, -1.5017],\n",
            "        [-0.0843,  0.4174, -0.4371,  0.6720],\n",
            "        [ 0.2246, -0.5086, -0.7173,  1.7495],\n",
            "        [ 0.2437, -0.2908, -1.7092, -1.2189],\n",
            "        [-1.1885, -1.5630,  0.8562, -0.1116]])\n"
          ]
        }
      ]
    },
    {
      "cell_type": "markdown",
      "source": [
        "`item` : 텐서에 값이 단 하나라도 존재하면 숫자값을 얻을 수 있음\n",
        "- 단, 스칼라값 하나만 존재해야 item() 사용 가능"
      ],
      "metadata": {
        "id": "OCgQ-jVVNAk4"
      }
    },
    {
      "cell_type": "code",
      "source": [
        "x = torch.randn(1)\n",
        "print(x)\n",
        "print(x.item())\n",
        "print(x.dtype)"
      ],
      "metadata": {
        "colab": {
          "base_uri": "https://localhost:8080/"
        },
        "id": "kEth_VmkM_mP",
        "outputId": "0fdd8f60-b938-42c3-c858-bb3f25ba4bab"
      },
      "execution_count": 37,
      "outputs": [
        {
          "output_type": "stream",
          "name": "stdout",
          "text": [
            "tensor([1.1693])\n",
            "1.1693092584609985\n",
            "torch.float32\n"
          ]
        }
      ]
    },
    {
      "cell_type": "markdown",
      "source": [
        "`squeeze`: 차원을 축소(제거)"
      ],
      "metadata": {
        "id": "fvv0Xy_oNFOE"
      }
    },
    {
      "cell_type": "code",
      "source": [
        "tensor = torch.rand(1, 3, 3)\n",
        "print(tensor)\n",
        "print(tensor.shape)"
      ],
      "metadata": {
        "colab": {
          "base_uri": "https://localhost:8080/"
        },
        "id": "wXoe3iAjNFdA",
        "outputId": "fa8612a9-dd1f-4765-b671-3cab6ff9230b"
      },
      "execution_count": 38,
      "outputs": [
        {
          "output_type": "stream",
          "name": "stdout",
          "text": [
            "tensor([[[0.1535, 0.1616, 0.7377],\n",
            "         [0.8151, 0.1341, 0.4079],\n",
            "         [0.4314, 0.3143, 0.4476]]])\n",
            "torch.Size([1, 3, 3])\n"
          ]
        }
      ]
    },
    {
      "cell_type": "code",
      "source": [
        "t = tensor.squeeze()\n",
        "print(t)\n",
        "print(t.shape)"
      ],
      "metadata": {
        "colab": {
          "base_uri": "https://localhost:8080/"
        },
        "id": "dgd9H40KNHwu",
        "outputId": "f0a0b3dc-6c63-4cb7-8eff-2d17fd18acb1"
      },
      "execution_count": 39,
      "outputs": [
        {
          "output_type": "stream",
          "name": "stdout",
          "text": [
            "tensor([[0.1535, 0.1616, 0.7377],\n",
            "        [0.8151, 0.1341, 0.4079],\n",
            "        [0.4314, 0.3143, 0.4476]])\n",
            "torch.Size([3, 3])\n"
          ]
        }
      ]
    },
    {
      "cell_type": "markdown",
      "source": [
        "`unsqueeze` : 차원을 증가 (생성)"
      ],
      "metadata": {
        "id": "MDm96XfINLrw"
      }
    },
    {
      "cell_type": "code",
      "source": [
        "t = torch.rand(3,3)\n",
        "print(t)\n",
        "print(t.shape)"
      ],
      "metadata": {
        "colab": {
          "base_uri": "https://localhost:8080/"
        },
        "id": "j3GQMPLINJBN",
        "outputId": "7c376186-f1b2-4ff2-84ab-d8db6e8eb419"
      },
      "execution_count": 40,
      "outputs": [
        {
          "output_type": "stream",
          "name": "stdout",
          "text": [
            "tensor([[0.1999, 0.3524, 0.9013],\n",
            "        [0.2908, 0.8650, 0.0655],\n",
            "        [0.5581, 0.3892, 0.7816]])\n",
            "torch.Size([3, 3])\n"
          ]
        }
      ]
    },
    {
      "cell_type": "code",
      "source": [
        "tensor = t.unsqueeze(dim=0)\n",
        "print(tensor)\n",
        "print(tensor.shape)"
      ],
      "metadata": {
        "colab": {
          "base_uri": "https://localhost:8080/"
        },
        "id": "o0qZYlPKNMkK",
        "outputId": "4607f424-1570-4990-f183-c35aacc4d964"
      },
      "execution_count": 41,
      "outputs": [
        {
          "output_type": "stream",
          "name": "stdout",
          "text": [
            "tensor([[[0.1999, 0.3524, 0.9013],\n",
            "         [0.2908, 0.8650, 0.0655],\n",
            "         [0.5581, 0.3892, 0.7816]]])\n",
            "torch.Size([1, 3, 3])\n"
          ]
        }
      ]
    },
    {
      "cell_type": "code",
      "source": [
        "tensor = t.unsqueeze(dim=2)\n",
        "print(tensor)\n",
        "print(tensor.shape)"
      ],
      "metadata": {
        "colab": {
          "base_uri": "https://localhost:8080/"
        },
        "id": "rAm4xcA6NN1N",
        "outputId": "20de3689-5fc1-4b83-ded4-35219c7fc44d"
      },
      "execution_count": 42,
      "outputs": [
        {
          "output_type": "stream",
          "name": "stdout",
          "text": [
            "tensor([[[0.1999],\n",
            "         [0.3524],\n",
            "         [0.9013]],\n",
            "\n",
            "        [[0.2908],\n",
            "         [0.8650],\n",
            "         [0.0655]],\n",
            "\n",
            "        [[0.5581],\n",
            "         [0.3892],\n",
            "         [0.7816]]])\n",
            "torch.Size([3, 3, 1])\n"
          ]
        }
      ]
    },
    {
      "cell_type": "markdown",
      "source": [
        "`stack` : 텐서 간 결합"
      ],
      "metadata": {
        "id": "2EBJYD92NRFg"
      }
    },
    {
      "cell_type": "code",
      "source": [
        "x = torch.FloatTensor([1,4])\n",
        "print(x)\n",
        "y = torch.FloatTensor([2,5])\n",
        "print(y)\n",
        "z = torch.FloatTensor([3, 6])\n",
        "\n",
        "print(torch.stack([x,y,z]))"
      ],
      "metadata": {
        "colab": {
          "base_uri": "https://localhost:8080/"
        },
        "id": "LNVkhrIcNSSZ",
        "outputId": "07158ad5-28a1-4ccb-bc0a-b0307eb7a20c"
      },
      "execution_count": 45,
      "outputs": [
        {
          "output_type": "stream",
          "name": "stdout",
          "text": [
            "tensor([1., 4.])\n",
            "tensor([2., 5.])\n",
            "tensor([[1., 4.],\n",
            "        [2., 5.],\n",
            "        [3., 6.]])\n"
          ]
        }
      ]
    },
    {
      "cell_type": "code",
      "source": [],
      "metadata": {
        "id": "9HvydOg3NO62"
      },
      "execution_count": 42,
      "outputs": []
    }
  ]
}