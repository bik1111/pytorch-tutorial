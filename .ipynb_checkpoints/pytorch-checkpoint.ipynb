{
 "cells": [
  {
   "cell_type": "code",
   "execution_count": 2,
   "id": "5bbb82c8-5493-4c69-aa6e-6f524dad9598",
   "metadata": {},
   "outputs": [
    {
     "data": {
      "text/plain": [
       "'2.1.2'"
      ]
     },
     "execution_count": 2,
     "metadata": {},
     "output_type": "execute_result"
    }
   ],
   "source": [
    "import torch\n",
    "torch.__version__"
   ]
  },
  {
   "cell_type": "markdown",
   "id": "fb0357f3-a71f-4237-a63c-9e75947150cf",
   "metadata": {},
   "source": [
    "### 텐서 초기화와 데이터 타입"
   ]
  },
  {
   "cell_type": "markdown",
   "id": "3395b23e-706d-49ee-b7ad-9edb78d26c0b",
   "metadata": {},
   "source": [
    "초기화 되지 않은 텐서"
   ]
  },
  {
   "cell_type": "code",
   "execution_count": 6,
   "id": "09c470fc-0353-408b-89f1-df565adc43b8",
   "metadata": {},
   "outputs": [
    {
     "name": "stdout",
     "output_type": "stream",
     "text": [
      "tensor([[ 2.3694e-38,  2.3694e-38],\n",
      "        [ 1.0498e-32,  1.2127e-38],\n",
      "        [ 0.0000e+00, -2.5244e-29],\n",
      "        [ 9.1127e-29,  1.5846e+29]])\n"
     ]
    }
   ],
   "source": [
    "x = torch.empty(4,2) # 4x2\n",
    "print(x)"
   ]
  },
  {
   "cell_type": "markdown",
   "id": "ac724616-8338-4142-a054-7d976a7f60e6",
   "metadata": {},
   "source": [
    "무작위로 초기화된 텐서"
   ]
  },
  {
   "cell_type": "code",
   "execution_count": 8,
   "id": "3ad36b7a-e61f-4bb6-a61a-8e4c783799c6",
   "metadata": {},
   "outputs": [
    {
     "name": "stdout",
     "output_type": "stream",
     "text": [
      "tensor([[0.2739, 0.7305],\n",
      "        [0.4497, 0.2469],\n",
      "        [0.9787, 0.1316],\n",
      "        [0.3643, 0.0117]])\n"
     ]
    }
   ],
   "source": [
    "x = torch.rand(4,2)\n",
    "print(x)"
   ]
  },
  {
   "cell_type": "markdown",
   "id": "67ec7e87-6707-426c-a03b-a1fe0971d9b5",
   "metadata": {},
   "source": [
    "데이터 타입(dtype)이 long이고, 0으로 채워진 텐서"
   ]
  },
  {
   "cell_type": "code",
   "execution_count": 10,
   "id": "208275b4-1e41-4058-853a-15c26e599ec3",
   "metadata": {},
   "outputs": [
    {
     "name": "stdout",
     "output_type": "stream",
     "text": [
      "tensor([[0, 0],\n",
      "        [0, 0],\n",
      "        [0, 0],\n",
      "        [0, 0]])\n"
     ]
    }
   ],
   "source": [
    "x = torch.zeros(4, 2, dtype=torch.long)\n",
    "print(x)"
   ]
  },
  {
   "cell_type": "markdown",
   "id": "4ac82e0a-8dbd-4017-aa36-383e38465293",
   "metadata": {},
   "source": [
    "사용자가 입력한 값으로 텐서 초기화"
   ]
  },
  {
   "cell_type": "code",
   "execution_count": 11,
   "id": "66872c24-30e0-4395-80a4-8c073f8dc69b",
   "metadata": {},
   "outputs": [
    {
     "name": "stdout",
     "output_type": "stream",
     "text": [
      "tensor([3.0000, 2.3000, 4.0000, 7.0000])\n"
     ]
    }
   ],
   "source": [
    "x = torch.tensor([3, 2.3, 4, 7])\n",
    "print(x)"
   ]
  },
  {
   "cell_type": "markdown",
   "id": "720449df-83dd-4508-a0e2-bab6d29d6423",
   "metadata": {},
   "source": [
    "2 x 4 크기, double 타입, 1로 채워진 텐서"
   ]
  },
  {
   "cell_type": "code",
   "execution_count": 12,
   "id": "08ca21a8-4f17-4662-8a85-2202f286cb8e",
   "metadata": {},
   "outputs": [
    {
     "name": "stdout",
     "output_type": "stream",
     "text": [
      "tensor([[1., 1., 1., 1.],\n",
      "        [1., 1., 1., 1.]], dtype=torch.float64)\n"
     ]
    }
   ],
   "source": [
    "x = x.new_ones(2, 4, dtype = torch.double)\n",
    "print(x)"
   ]
  },
  {
   "cell_type": "markdown",
   "id": "3abc7b45-0c39-45a1-aff6-43368617a829",
   "metadata": {},
   "source": [
    "x와 같은 크기, float 타입, 무작위로 채워진 텐서"
   ]
  },
  {
   "cell_type": "code",
   "execution_count": 13,
   "id": "38aeda77-f58a-48ba-a451-9b22658cb4bb",
   "metadata": {},
   "outputs": [
    {
     "data": {
      "text/plain": [
       "tensor([[ 0.2350,  1.1723, -0.6867, -0.5791],\n",
       "        [ 0.2317,  1.3555,  2.2515,  0.4387]])"
      ]
     },
     "execution_count": 13,
     "metadata": {},
     "output_type": "execute_result"
    }
   ],
   "source": [
    "x = torch.randn_like(x, dtype = torch.float)\n",
    "x"
   ]
  },
  {
   "cell_type": "markdown",
   "id": "8e56731b-127e-4f14-afed-2f539f0740e3",
   "metadata": {},
   "source": [
    "텐서의 크기 계산"
   ]
  },
  {
   "cell_type": "code",
   "execution_count": 14,
   "id": "312dd787-ab34-456a-b2d2-48a9b5afdb37",
   "metadata": {},
   "outputs": [
    {
     "name": "stdout",
     "output_type": "stream",
     "text": [
      "torch.Size([2, 4])\n"
     ]
    }
   ],
   "source": [
    "print(x.size())"
   ]
  },
  {
   "cell_type": "markdown",
   "id": "89653112-788a-45bb-b7d8-4f14a2e1e097",
   "metadata": {},
   "source": [
    "### 데이터 타입 (Data Type)"
   ]
  },
  {
   "cell_type": "code",
   "execution_count": 16,
   "id": "dde74fdf-84fe-4f3c-bc62-02bff1dfe142",
   "metadata": {},
   "outputs": [
    {
     "name": "stdout",
     "output_type": "stream",
     "text": [
      "tensor([1., 2., 3.])\n",
      "torch.float32\n"
     ]
    }
   ],
   "source": [
    "ft = torch.FloatTensor([1, 2, 3])\n",
    "print(ft)\n",
    "print(ft.dtype)"
   ]
  },
  {
   "cell_type": "code",
   "execution_count": 17,
   "id": "7e7e40a2-5fe0-41c2-9a8b-8391a8c5b67d",
   "metadata": {},
   "outputs": [
    {
     "name": "stdout",
     "output_type": "stream",
     "text": [
      "tensor([1, 2, 3], dtype=torch.int16)\n",
      "tensor([1, 2, 3], dtype=torch.int32)\n",
      "tensor([1, 2, 3])\n"
     ]
    }
   ],
   "source": [
    "# 데이터 타입 변환 -> typeCasting\n",
    "print(ft.short())\n",
    "print(ft.int())\n",
    "print(ft.long())"
   ]
  },
  {
   "cell_type": "code",
   "execution_count": 19,
   "id": "469bef8b-9ddc-4928-8180-0aad9bb23533",
   "metadata": {},
   "outputs": [
    {
     "name": "stdout",
     "output_type": "stream",
     "text": [
      "tensor([1, 2, 3], dtype=torch.int32)\n",
      "torch.int32\n"
     ]
    }
   ],
   "source": [
    "it = torch.IntTensor([1, 2, 3])\n",
    "print(it)\n",
    "print(it.dtype)"
   ]
  },
  {
   "cell_type": "code",
   "execution_count": 20,
   "id": "e115a9b1-b12e-4a48-aab4-7f4f1e717303",
   "metadata": {},
   "outputs": [
    {
     "name": "stdout",
     "output_type": "stream",
     "text": [
      "tensor([1., 2., 3.])\n",
      "tensor([1., 2., 3.], dtype=torch.float64)\n",
      "tensor([1., 2., 3.], dtype=torch.float16)\n"
     ]
    }
   ],
   "source": [
    "print(it.float())\n",
    "print(it.double())\n",
    "print(it.half())"
   ]
  },
  {
   "cell_type": "markdown",
   "id": "6cc54a48-e006-4e7c-8bca-9857e6bad864",
   "metadata": {},
   "source": [
    "### CUDA Tensors"
   ]
  },
  {
   "cell_type": "markdown",
   "id": "60efcec0-73a6-4da3-8292-b8a177688769",
   "metadata": {},
   "source": [
    "- `.to` 메소드를 사용하여 텐서를 어떠한 장치(cpu,gpu)로 옮길 수 있음"
   ]
  },
  {
   "cell_type": "code",
   "execution_count": 22,
   "id": "973d04a6-3816-4d6e-ac46-bdae8975d510",
   "metadata": {},
   "outputs": [
    {
     "name": "stdout",
     "output_type": "stream",
     "text": [
      "tensor([2.0366])\n",
      "2.036585807800293\n",
      "torch.float32\n"
     ]
    }
   ],
   "source": [
    "x = torch.randn(1)\n",
    "print(x)\n",
    "print(x.item())\n",
    "print(x.dtype)"
   ]
  },
  {
   "cell_type": "code",
   "execution_count": 23,
   "id": "c6ed4c87-e63a-4bb0-8358-dbd6da7616d2",
   "metadata": {},
   "outputs": [
    {
     "name": "stdout",
     "output_type": "stream",
     "text": [
      "cpu\n",
      "tensor([1.])\n"
     ]
    }
   ],
   "source": [
    "device = torch.device('cuda' if torch.cuda.is_available() else 'cpu')\n",
    "print(device)\n",
    "y = torch.ones_like(x, device = device)\n",
    "print(y)\n",
    "x = x.to(device)\n",
    "print(x)\n",
    "z = x + y \n",
    "print(z)\n",
    "print(z.to('cpu', torch.double))"
   ]
  },
  {
   "cell_type": "code",
   "execution_count": null,
   "id": "1be71645-91e2-4527-8cfb-98bd623504f5",
   "metadata": {},
   "outputs": [],
   "source": []
  }
 ],
 "metadata": {
  "kernelspec": {
   "display_name": "Python 3 (ipykernel)",
   "language": "python",
   "name": "python3"
  },
  "language_info": {
   "codemirror_mode": {
    "name": "ipython",
    "version": 3
   },
   "file_extension": ".py",
   "mimetype": "text/x-python",
   "name": "python",
   "nbconvert_exporter": "python",
   "pygments_lexer": "ipython3",
   "version": "3.11.6"
  }
 },
 "nbformat": 4,
 "nbformat_minor": 5
}
